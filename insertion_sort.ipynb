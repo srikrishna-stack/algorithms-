{
  "nbformat": 4,
  "nbformat_minor": 0,
  "metadata": {
    "colab": {
      "name": "insertion_sort.ipynb",
      "provenance": []
    },
    "kernelspec": {
      "name": "python3",
      "display_name": "Python 3"
    },
    "language_info": {
      "name": "python"
    }
  },
  "cells": [
    {
      "cell_type": "code",
      "metadata": {
        "colab": {
          "base_uri": "https://localhost:8080/"
        },
        "id": "8FHyaCddUL2F",
        "outputId": "fc131035-7267-40cb-cf7f-3299c397a98c"
      },
      "source": [
        "def Insertion_sort(a):\n",
        "  for j in range(1,len(arr)):\n",
        "    key=arr[j]\n",
        "    i=j-1\n",
        "    while (i>=0 and a[i]>key):\n",
        "      a[i+1]=a[i]\n",
        "      i=i-1\n",
        "      a[i+1]=key\n",
        "  \n",
        "\n",
        "arr=[12,11,13,5,6]\n",
        "Insertion_sort(arr)\n",
        "print('sorted array is ')\n",
        "for i in range(len(arr)):\n",
        "  print(\"%d\"%arr[i])\n",
        "#time complexity=worst case O(n^2)\n",
        "#space complexity=O(1)\n",
        "#best case which already sorted or in reverse order =omega(1)\n"
      ],
      "execution_count": null,
      "outputs": [
        {
          "output_type": "stream",
          "text": [
            "sorted array is \n",
            "5\n",
            "6\n",
            "11\n",
            "12\n",
            "13\n"
          ],
          "name": "stdout"
        }
      ]
    },
    {
      "cell_type": "code",
      "metadata": {
        "id": "k7uuDAN3UPiT"
      },
      "source": [
        ""
      ],
      "execution_count": null,
      "outputs": []
    },
    {
      "cell_type": "code",
      "metadata": {
        "id": "JVSHGhbUUPf3"
      },
      "source": [
        ""
      ],
      "execution_count": null,
      "outputs": []
    },
    {
      "cell_type": "code",
      "metadata": {
        "id": "_HjuCOx8UPdR"
      },
      "source": [
        ""
      ],
      "execution_count": null,
      "outputs": []
    },
    {
      "cell_type": "code",
      "metadata": {
        "id": "ItKA03mkUPal"
      },
      "source": [
        ""
      ],
      "execution_count": null,
      "outputs": []
    },
    {
      "cell_type": "code",
      "metadata": {
        "id": "-rPhyu30UPXX"
      },
      "source": [
        ""
      ],
      "execution_count": null,
      "outputs": []
    },
    {
      "cell_type": "code",
      "metadata": {
        "id": "WLGGkde-UPU0"
      },
      "source": [
        ""
      ],
      "execution_count": null,
      "outputs": []
    },
    {
      "cell_type": "code",
      "metadata": {
        "id": "lVn5XT15UPR-"
      },
      "source": [
        ""
      ],
      "execution_count": null,
      "outputs": []
    }
  ]
}